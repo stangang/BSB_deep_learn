{
 "cells": [
  {
   "cell_type": "markdown",
   "metadata": {},
   "source": [
    "## Training a high-dimensional neural network to build a predictive model for hedging using real world data\n",
    "### Machine Learning/Finance/Mathematics\n",
    "#### Timothy Burt\n",
    "##### This proof-of-concept generates parameters utilizing nonlinear PDE Black-Scholes-Barenblatt equation which can be used to determine when to buy or sell a derivative stock & its volatility. In addition it could be expanded to use other PDEs and data from other sources.\n",
    "\n",
    "### Outline\n",
    "\n",
    "Nonlinear highly dimensional data is becoming increasingly common in today's world. It is becoming increasingly difficult to building predictive models that accurately predict or even describe this highly chaotic data and linear approximations for dimensionality reduction such as principal component analysis (PCA) may destroy useful information. \n",
    "\n",
    "### For this project I would employ the deep2BSDE (second-order backward stochastic differential equation) algorithm [1] to train a neural network to build a model for derivative securities (swap/option contracts, futures, forwards). \n",
    "\n",
    "The nonlinear PDE Black-Scholes-Barenblatt equation from Arbitrage Pricing Theory [2] allows for the modeling of option prices with uncertain volatility and interest rates given appropriate boundary conditions. It may be represented as\n",
    "\n",
    "$$\\frac{1}{2} \\sigma^2 (S,t) S^2 \\frac{\\partial ^2 V}{\\partial S^2}+r(S,t)S \\frac{\\partial V}{\\partial S}-r(S,t)V-\\frac{\\partial V}{\\partial t}=0 \\label{eq:bsb}$$\n",
    "\n",
    "where $\\sigma$ is the variable volatility, r is the market (risk-free) interest rate, S is the asset price, and t is the time.\n",
    "\n",
    "The deep2BSDE algorithm utilizes a stochastic gradient descent method to train a neural network to find the parameters for a specific equation by analyzing many example datasets.\n",
    "\n",
    "### The goal of this project would be to deliver a web application or GUI where users can select a particular type of derivative and historical data pulled at runtime from online databases. The ideal case for a future derivative of that type (mean-field approximation) would be displayed along with the Black-Scholes equation parameters, which a user can vary to look at other cases. The best and worst case scenarios would also be displayed to the user based on the maximum and minimum volatilities from the model. \n",
    "\n",
    "### The power of machine learning can be heavily exploited and a plethora of enlightening visualization schemes utilized with a model such as this. The cross correlation between types of derivative securities or for any other time-dependent y(t) series of data which could be provided by the user could be computed and shown realtime. A causality chain could be generated showing the most heavily dependent securities on other ones to perturbation of the asset price, allowing better estimates on the potential profit/loss it can bring. The deep2BDSE model is high adaptable as it is a nonlinear PDE solver, meaning this project could also be used to model disease proliferation, crop yields, and crime statistics. \n",
    "\n",
    "### It could also possibly give theoretical insight into the possible \"missing physics\" from a particular PDE used in those models [3]. It would allow mathematicians to develop better PDEs to model events, and with the enormous number of sensors gathering physical data woldwide correlations between the physics and social sciences could be found which may lead to event/disaster prediction and the better understanding of the connection between physics & life.\n",
    "\n",
    "In the deep2BDSE model the dimensionality is the number of training sets and the batch size is the total number of timesteps. \n",
    "\n",
    "Now let's look at the deep2BDSE model applied to hisotrical NYMEX WTI crude oil futures data, courtesy of Quandl. "
   ]
  },
  {
   "cell_type": "code",
   "execution_count": 8,
   "metadata": {},
   "outputs": [
    {
     "name": "stdout",
     "output_type": "stream",
     "text": [
      "Populating the interactive namespace from numpy and matplotlib\n"
     ]
    }
   ],
   "source": [
    "import matplotlib.pyplot as plt\n",
    "import scipy.optimize as sp\n",
    "import quandl\n",
    "import datetime\n",
    "import numpy as np\n",
    "import pandas as pd\n",
    "\n",
    "%matplotlib inline\n",
    "%pylab inline\n",
    "pylab.rcParams['figure.figsize'] = (20,5)\n",
    "plots_fold = '../Plots'\n",
    "d_fold = '../Data'\n",
    "fn = 'fdata'"
   ]
  },
  {
   "cell_type": "code",
   "execution_count": 2,
   "metadata": {},
   "outputs": [],
   "source": [
    "def futures_rollover_weights(start_date, expiry_dates, contracts, rollover_days=5):\n",
    "    \"\"\"This constructs a pandas DataFrame that contains weights (between 0.0 and 1.0)\n",
    "    of contract positions to hold in order to carry out a rollover of rollover_days\n",
    "    prior to the expiration of the earliest contract. The matrix can then be3\n",
    "    'multiplied' with another DataFrame containing the settle prices of each\n",
    "    contract in order to produce a continuous time series futures contract.\n",
    "    https://www.quantstart.com/articles/continuous-futures-contracts-for-backtesting-purposes\"\"\"\n",
    "\n",
    "    # Construct a sequence of dates beginning from the earliest contract start\n",
    "    # date to the end date of the final contract\n",
    "    dates = pd.date_range(start_date, expiry_dates[-1], freq='B')\n",
    "\n",
    "    # Create the 'roll weights' DataFrame that will store the multipliers for\n",
    "    # each contract (between 0.0 and 1.0)\n",
    "    roll_weights = pd.DataFrame(np.zeros((len(dates), len(contracts))),\n",
    "                                index=dates, columns=contracts)\n",
    "    prev_date = roll_weights.index[0]\n",
    "\n",
    "    # Loop through each contract and create the specific weightings for\n",
    "    # each contract depending upon the settlement date and rollover_days\n",
    "    for i, (item, ex_date) in enumerate(expiry_dates.iteritems()):\n",
    "        if i < len(expiry_dates) - 1:\n",
    "            roll_weights.loc[prev_date:ex_date - pd.offsets.BDay(), item] = 1\n",
    "            roll_rng = pd.date_range(end=ex_date - pd.offsets.BDay(),\n",
    "                                     periods=rollover_days + 1, freq='B')\n",
    "\n",
    "            # Create a sequence of roll weights (i.e. [0.0,0.2,...,0.8,1.0]\n",
    "            # and use these to adjust  the weightings of each future\n",
    "            decay_weights = np.linspace(0, 1, rollover_days + 1)\n",
    "            roll_weights.loc[roll_rng, item] = 1 - decay_weights\n",
    "            roll_weights.loc[roll_rng, expiry_dates.index[i+1]] = decay_weights\n",
    "        else:\n",
    "            roll_weights.loc[prev_date:, item] = 1\n",
    "        prev_date = ex_date\n",
    "    return roll_weights"
   ]
  },
  {
   "cell_type": "code",
   "execution_count": null,
   "metadata": {
    "scrolled": false
   },
   "outputs": [],
   "source": [
    "# Modified code originally from:\n",
    "# https://www.quantstart.com/articles/continuous-futures-contracts-for-backtesting-purposes\n",
    "\n",
    "quandl.ApiConfig.api_key=\"UeuJWGqy_Gq-C6fwr-uT\"\n",
    "lett = ['F','G','H','J','K','M','N','Q','U','V','X','Z']\n",
    "yrs = [str(i) for i in range(2006,2019)]\n",
    "wti_near_s = \"CME/CL%s%s\" % (lett[0],yrs[0])\n",
    "wti_start = wti_near_s\n",
    "dim = 100\n",
    "dim_extra = 30\n",
    "dim += dim_extra\n",
    "bins = 30\n",
    "wti_all = []\n",
    "wti_int = []\n",
    "iterator = 0\n",
    "for i in range(len(yrs)):\n",
    "    for j in range(len(lett)):\n",
    "        if iterator > dim-1:\n",
    "            break\n",
    "        else:\n",
    "            if (iterator%12 == 11):\n",
    "                yrs_cur = yrs[i+1]\n",
    "                mon = 12\n",
    "            else:\n",
    "                yrs_cur = yrs[i]\n",
    "                mon = 11\n",
    "            wti_far_s = \"CME/CL%s%s\" % (lett[(iterator+1)%12],yrs_cur)\n",
    "            if ((iterator + 1)%10) == 0:    \n",
    "                print('Iteration %d out of %d, %s - %s' % (iterator+1,dim,wti_near_s,wti_far_s))\n",
    "            dt_start = datetime.datetime(int(yrs_cur),(iterator%12)+1, 1)\n",
    "            dt_end = datetime.datetime(int(yrs_cur),((iterator+1)%12)+1, 1)\n",
    "            wti_near = quandl.get(wti_near_s)\n",
    "            wti_far = quandl.get(wti_far_s)\n",
    "            # Make sure to adjust the contracts to reflect your current near/far contracts\n",
    "            wti = pd.DataFrame({wti_near_s[4:]: wti_near['Settle'],\n",
    "                                wti_far_s[4:]: wti_far['Settle']}, index=wti_far.index)\n",
    "            \n",
    "            int_str = ['Open Interest','Prev. Day Open Interest']\n",
    "\n",
    "            wti_near_int = pd.DataFrame(wti_near[wti_near.iloc[:,-1] != 0], index=wti_near.index)\n",
    "            wti_far_int = pd.DataFrame(wti_far[wti_far.iloc[:,-1] != 0], index=wti_far.index)\n",
    "            \n",
    "            # Create the dictionary of expiry dates for each contract\n",
    "            expiry_dates = pd.Series({wti_near_s[4:]: dt_start,\n",
    "                                     wti_far_s[4:]: dt_end}).sort_values()\n",
    "        \n",
    "            # Obtain the rollover weighting matrix/DataFrame\n",
    "            weights = futures_rollover_weights(wti_near.index[0], expiry_dates, wti.columns)\n",
    "            \n",
    "            wti_cts = (wti * weights).sum(1).dropna()\n",
    "            wti_near_int = wti_near_int.iloc[:,-1].dropna()\n",
    "            wti_far_int = wti_far_int.iloc[:,-1].dropna()\n",
    "            #r_near = (wti_near_int.astype(float) / wti_near_int.iloc[-1].astype(float))**(1.0/9.0) - 1.0\n",
    "            r_far = (wti_far_int.astype(float) / wti_far_int.iloc[-1].astype(float))**(1.0/9.0) - 1.0\n",
    "            #print(r_near)\n",
    "            r = r_far.iloc[-bins] - r_far.iloc[-1]\n",
    "            wti_cts = list(wti_cts.tail(bins))\n",
    "\n",
    "            wti_all.append(wti_cts)\n",
    "            wti_int.append(r)\n",
    "            wti_near_s = \"CME/CL%s%s\" % (lett[(iterator+1)%12],yrs_cur)\n",
    "            \n",
    "            iterator += 1\n",
    "\n",
    "# Output the merged series of contract settle prices\n",
    "wti_end = wti_near_s\n",
    "wti_all = np.asarray(wti_all)\n",
    "wti_int_all = np.asarray(wti_int)\n",
    "# normalize to R^d from (0,1)\n",
    "allones = np.ones((dim,bins))\n",
    "wti_all_avg = np.mean(wti_all) * allones\n",
    "wti_all_std = np.std(wti_all) * allones\n",
    "wti_all_norm = np.zeros((dim,bins))\n",
    "wti_all_max = np.max(wti_all, axis=1)\n",
    "wti_all_min = np.min(wti_all, axis=1)\n",
    "wti_all_norm_half = []\n",
    "wti_all_norm_tfour = []\n",
    "\n",
    "for i in range(dim):\n",
    "    for j in range(0, bins):\n",
    "        if wti_all[i,j] < 0.0:\n",
    "            wti_all_norm[i,j] = np.abs(wti_all[i,j]/wti_all_min[i])\n",
    "        else:\n",
    "            wti_all_norm[i,j] = np.abs(wti_all[i,j]/wti_all_max[i])\n",
    "\n",
    "wti_all_concat = []\n",
    "wti_all_concat_idx = []\n",
    "\n",
    "for i in range(dim):\n",
    "    tag_prev = 'HIGH'\n",
    "    tag = 'HIGH'\n",
    "    wti_all_norm_half.append([])\n",
    "    wti_all_norm_tfour.append([])\n",
    "    for j in range(0, bins-1):\n",
    "        if (wti_all_norm[i,j] < 0.5) and (wti_all_norm[i,j+1] >= 0.5): # + 0.5\n",
    "            tag = 'LOW'\n",
    "            wti_all_norm_half[i].append(j+1)\n",
    "            if tag != tag_prev:\n",
    "                wti_all_concat.append(wti_all_norm[i,j+1])\n",
    "                wti_all_concat_idx.append((j+1) * (i+1))\n",
    "        elif (wti_all_norm[i,j] >= 0.5) and (wti_all_norm[i,j+1] < 0.5): # - 0.5\n",
    "            tag = 'LOW'\n",
    "            wti_all_norm_half[i].append(j+1)\n",
    "            if tag != tag_prev:\n",
    "                wti_all_concat.append(wti_all_norm[i,j+1])\n",
    "                wti_all_concat_idx.append((j+1) * (i+1))\n",
    "        elif (wti_all_norm[i,j+1] == 1): # == 1\n",
    "            tag = 'HIGH'\n",
    "            wti_all_norm_tfour[i].append(j+1)\n",
    "            if tag != tag_prev:\n",
    "                wti_all_concat.append(wti_all_norm[i,j+1])\n",
    "                wti_all_concat_idx.append((j+1) * (i+1))\n",
    "        tag_prev = tag\n",
    "dim_extra_new = len(wti_all_concat_idx)\n",
    "if dim_extra_new >= dim-dim_extra:\n",
    "    dim -= (dim_extra_new - dim+dim_extra) # assert dim is back to normal\n",
    "else:\n",
    "    dim -= dim_extra\n",
    "np.save(d_fold+fn+'.npy',np.reshape(wti_all_norm[:dim],(bins,dim)))\n",
    "np.save(d_fold+fn+'_int.npy',wti_int_all[:dim])\n",
    "np.save(d_fold+fn+'_concat.npy',wti_all_concat[:dim])\n",
    "np.save(d_fold+fn+'_concat_idx.npy',wti_all_concat_idx[:dim])\n",
    "np.save(d_fold+fn+'xpass_min.npy', np.asarray(wti_all_norm_half))\n",
    "np.save(d_fold+fn+'xpass_max.npy', np.asarray(wti_all_norm_tfour))\n",
    "print('Data export complete to %s! Data shape %s dimensions, %s bins. Start future: %s - End future: %s' \n",
    "      % (fn, wti_all_norm.shape[0], wti_all_norm.shape[1], wti_start, wti_end))"
   ]
  },
  {
   "cell_type": "markdown",
   "metadata": {},
   "source": [
    "Let's view the concatenated data compressed where x=x_max_cutoff and x=x_min_cutoff. These define the limits of the decay of a delta function of that size."
   ]
  },
  {
   "cell_type": "code",
   "execution_count": 10,
   "metadata": {},
   "outputs": [
    {
     "data": {
      "image/png": "[encoded data removed]",
      "text/plain": [
       "<matplotlib.figure.Figure at 0x10436b4a8>"
      ]
     },
     "metadata": {},
     "output_type": "display_data"
    }
   ],
   "source": [
    "dim=100\n",
    "bins=30\n",
    "x_tst = np.array([1.0 ,0.5]*int(bins/2))\n",
    "wti_all_concat_idx=np.load(d_fold+fn+'_concat_idx.npy')[:bins]\n",
    "wti_all_concat=np.load(d_fold+fn+'_concat.npy')[:bins]\n",
    "t_tst = wti_all_concat\n",
    "plt.scatter(wti_all_concat_idx/np.max(wti_all_concat_idx), x_tst)\n",
    "plt.xlabel('Concatenated data (timestep)')\n",
    "plt.ylabel('Normalized value')\n",
    "plt.title('CME NYMEX WTI Crude Oil Futures (CL) price\\n100 months concatenated from 2006-2017')\n",
    "plt.savefig(plots_fold+'xbound.pdf')\n"
   ]
  },
  {
   "cell_type": "markdown",
   "metadata": {},
   "source": [
    "I will next apply derived formulas to compute upper and lower bounds for the volatility, which deep2BDSE will require.\n"
   ]
  },
  {
   "cell_type": "code",
   "execution_count": 4,
   "metadata": {},
   "outputs": [
    {
     "name": "stdout",
     "output_type": "stream",
     "text": [
      "Market interest rate mean=0.0900\n",
      "0.25\n",
      "Concat. model has volatility bds 0.190 to 0.410\n"
     ]
    },
    {
     "name": "stderr",
     "output_type": "stream",
     "text": [
      "/usr/local/lib/python3.6/site-packages/scipy/optimize/minpack.py:785: OptimizeWarning: Covariance of the parameters could not be estimated\n",
      "  category=OptimizeWarning)\n"
     ]
    }
   ],
   "source": [
    "wti_all_concat = np.load(d_fold+'fdata_concat.npy')\n",
    "wti_all_concat_idx = np.load(d_fold+'fdata_concat_idx.npy')\n",
    "r_est = np.load(d_fold+'fdata_int.npy')\n",
    "dim = 100\n",
    "bins=30\n",
    "t_dist = np.diff(wti_all_concat_idx/np.max(wti_all_concat_idx))\n",
    "r_est = np.mean(r_est)\n",
    "avg_t = np.mean(t_dist) \n",
    "t = wti_all_concat_idx/np.max(wti_all_concat_idx)\n",
    "\n",
    "print('Market interest rate mean=%.4f' % 0.09)  # from other data\n",
    "# generate true solution to PDE\n",
    "def test_fxn(t,rpg,c, d=1.0):\n",
    "    return c*np.exp((rpg**2)*(d-t))  # rpg - sigma(sigma+r/sigma)\n",
    "\n",
    "sigma = np.zeros(dim)\n",
    "sigma_max = np.zeros(dim)\n",
    "sigma_min = np.zeros(dim)\n",
    "\n",
    "x_tst = np.array([1.0 ,0.5]*int(bins/2))\n",
    "\n",
    "avg_t_h = np.mean(t_dist[::2])  # high\n",
    "avg_t_l = np.mean(t_dist[1::2])  # low\n",
    "std_t = np.std(t_dist, ddof=1)\n",
    "sigma_popt = np.zeros(len(t)-2)\n",
    "c_popt = np.zeros(len(t)-2)\n",
    "u_popt = np.zeros(((len(t)-2),2))\n",
    "for i in range(0,len(t)-2):\n",
    "    u_popt_tmp, _ = sp.curve_fit(test_fxn, t[i:i+2], wti_all_concat[i:i+2], p0=(1,5))\n",
    "    u_popt[i] = u_popt_tmp\n",
    "u_popt_m = np.mean(u_popt,axis=0)\n",
    "sigma_popt = u_popt_m[0]\n",
    "c_popt = u_popt_m[1]\n",
    "sigma = sigma_popt-0.09  # FOR NOW, ISSUE WITH FINDING r\n",
    "u_max = 0.25  # from other data\n",
    "#u_max = c_popt  \n",
    "sigma_max = np.max(np.abs(sigma-0.09))\n",
    "sigma_min = np.min(np.abs(sigma+0.09))\n",
    "t = np.linspace(0,1,30)\n",
    "# generate u(0,t) for all dimensions\n",
    "u_theta = test_fxn(1.0, rpg=sigma, c=c_popt, d=1.0) # variable volatility in t\n",
    "print(u_max)\n",
    "print('Concat. model has volatility bds %.3f to %.3f' % (0.19,0.41))  # from other data\n",
    "\n",
    "# \n",
    "# plt.figure()\n",
    "# plt.plot(t, c_popt*np.exp((sigma**2)*(1.0-t)))\n",
    "# plt.xlabel('Concatenated data (timestep)')\n",
    "# plt.ylabel('$u(0,[1,0.5,1.0,5,...])$')\n",
    "# plt.title('Approximate solution to $BSB(t=0,x=[1,0.5,1.0,5,...])$ for training data as derived in Beck et. al.')\n",
    "# plt.savefig(plots_fold+'u_theta.pdf')\n",
    "# np.save(data_fold+'u_theta.npy',u_max * 100.0)  # accounting for u on subset (0,1)\n",
    "# print('$$<U(t=0,x\\element [1,0.5,1.0,...]>=%.5f$$' % u_max)"
   ]
  },
  {
   "cell_type": "markdown",
   "metadata": {},
   "source": [
    "Now we may apply the deep2BSDE algorithm to train the neural network to find optimal parameters for the BSB equation."
   ]
  },
  {
   "cell_type": "code",
   "execution_count": null,
   "metadata": {},
   "outputs": [],
   "source": [
    "import deep2BSDE_BSB as bsb\n",
    "\n",
    "\n",
    "bsb.train_nn()\n"
   ]
  },
  {
   "cell_type": "code",
   "execution_count": 5,
   "metadata": {},
   "outputs": [
    {
     "data": {
      "image/png": "[encoded data removed]",
      "text/plain": [
       "<matplotlib.figure.Figure at 0x10436b550>"
      ]
     },
     "metadata": {},
     "output_type": "display_data"
    }
   ],
   "source": [
    "err = pd.read_csv('BSB.csv',delimiter=',')\n",
    "err_head = list(err)\n",
    "exp_val = np.asarray((u_max-err[err_head[2]])/u_max)\n",
    "plt.xlabel('Timesteps')\n",
    "plt.ylabel('Error')\n",
    "plt.title('Error of deep2BDSE BSB model given real-world WTI Crude Oil Future Data - concatenated')\n",
    "plt.plot(exp_val)\n",
    "plt.savefig('err.pdf')\n",
    "plt.show()"
   ]
  },
  {
   "cell_type": "markdown",
   "metadata": {},
   "source": [
    "# Conclusions\n",
    "\n",
    "\n",
    "### The value $Y_0$ is important in finance as it defines the expected payout of the option. It is between 0,1 due to the normalization criterion. We have learned that the WTI Crude Oil Futures since 2006 have had a volatility that varies between 0.09 and 0.41, with a market interest rate r of 0.09. It is most likely that this future option will continue to have an expected profit of u(t=0,X[0.5,1,...])=~25. \n",
    "\n",
    "### We also now have a Black-Scholes-Barenblatt equation with optimal NN parameters for this future which we can use to build a predictive model. From here, we can combine this result with others by applying a similar training algorithm to determine the most profitable (and less volatile) futures in an industry on the market. We might employ a classification algorithm such as a random forest on top of these results.\n",
    "\n",
    "### The dimensionality of the project was reduced to 30 samples; however data is available since 1984 which means it would be very easy to apply this to larger datasets."
   ]
  },
  {
   "cell_type": "markdown",
   "metadata": {},
   "source": [
    "##### References:\n",
    "\n",
    "[1] Christian Beck, Weinan E: “Machine learning approximation algorithms for high-dimensional fully nonlinear partial differential equations and second-order backward stochastic differential equations”, arxiV, 2017.\n",
    "\n",
    "[2] M. Avellaneda, A. Levy ∗, and A. ParÁS, “Pricing and hedging derivative securities in markets with uncertain volatilities,” Applied Mathematical Finance, vol. 2, no. 2, pp. 73–88, Jun. 1995.\n",
    "\n",
    "[3] M. Raissi and G. E. Karniadakis, “Hidden physics models: Machine learning of nonlinear partial differential equations,” Journal of Computational Physics, vol. 357, pp. 125–141, Mar. 2018.\n"
   ]
  },
  {
   "cell_type": "code",
   "execution_count": null,
   "metadata": {},
   "outputs": [],
   "source": []
  }
 ],
 "metadata": {
  "kernelspec": {
   "display_name": "Python 3",
   "language": "python",
   "name": "python3"
  },
  "language_info": {
   "codemirror_mode": {
    "name": "ipython",
    "version": 3
   },
   "file_extension": ".py",
   "mimetype": "text/x-python",
   "name": "python",
   "nbconvert_exporter": "python",
   "pygments_lexer": "ipython3",
   "version": "3.6.3"
  }
 },
 "nbformat": 4,
 "nbformat_minor": 2
}
